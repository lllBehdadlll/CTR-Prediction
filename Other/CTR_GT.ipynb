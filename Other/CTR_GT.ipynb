{
  "nbformat": 4,
  "nbformat_minor": 0,
  "metadata": {
    "colab": {
      "provenance": []
    },
    "kernelspec": {
      "name": "python3",
      "display_name": "Python 3"
    },
    "language_info": {
      "name": "python"
    }
  },
  "cells": [
    {
      "cell_type": "markdown",
      "source": [
        "**Load Data**"
      ],
      "metadata": {
        "id": "BsuGsgmP3GEf"
      }
    },
    {
      "cell_type": "code",
      "source": [
        "import pandas as pd"
      ],
      "metadata": {
        "id": "6UKJ5IV53Tsd"
      },
      "execution_count": 14,
      "outputs": []
    },
    {
      "cell_type": "code",
      "source": [
        "df = pd.read_csv('/content/train.csv')"
      ],
      "metadata": {
        "id": "0iXAtwNr3VrW"
      },
      "execution_count": 15,
      "outputs": []
    },
    {
      "cell_type": "code",
      "source": [
        "df.head()"
      ],
      "metadata": {
        "colab": {
          "base_uri": "https://localhost:8080/",
          "height": 280
        },
        "id": "sEWt-x314O0Q",
        "outputId": "93608527-3623-4532-ad05-6c2af9dfd1da"
      },
      "execution_count": 16,
      "outputs": [
        {
          "output_type": "execute_result",
          "data": {
            "text/plain": [
              "             id  click      hour    C1  banner_pos   site_id site_domain  \\\n",
              "0  3.190000e+18      0  14102101  1005           0  85f751fd    c4e18dd6   \n",
              "1  3.190000e+18      1  14102101  1005           0  5b08c53b    7687a86e   \n",
              "2  3.190000e+18      0  14102101  1005           0  5b08c53b    7687a86e   \n",
              "3  3.190000e+18      0  14102101  1005           0  85f751fd    c4e18dd6   \n",
              "4  3.190000e+18      0  14102101  1005           0  1fbe01fe    f3845767   \n",
              "\n",
              "  site_category    app_id app_domain  ... device_type device_conn_type    C14  \\\n",
              "0      50e219e0  c0c5eb49   f2f777fb  ...           1                0  21611   \n",
              "1      3e814130  ecad2386   7801e8d9  ...           1                0  17653   \n",
              "2      3e814130  ecad2386   7801e8d9  ...           1                0  17653   \n",
              "3      50e219e0  5e3f096f   2347f47a  ...           1                0  21611   \n",
              "4      28905ebd  ecad2386   7801e8d9  ...           1                0  15706   \n",
              "\n",
              "   C15  C16   C17  C18  C19     C20  C21  \n",
              "0  320   50  2480    3  297  100111   61  \n",
              "1  300  250  1994    2   39      -1   33  \n",
              "2  300  250  1994    2   39      -1   33  \n",
              "3  320   50  2480    3  297  100111   61  \n",
              "4  320   50  1722    0   35  100084   79  \n",
              "\n",
              "[5 rows x 24 columns]"
            ],
            "text/html": [
              "\n",
              "  <div id=\"df-0bc2733e-a75a-4c84-8e71-d00d304459e9\">\n",
              "    <div class=\"colab-df-container\">\n",
              "      <div>\n",
              "<style scoped>\n",
              "    .dataframe tbody tr th:only-of-type {\n",
              "        vertical-align: middle;\n",
              "    }\n",
              "\n",
              "    .dataframe tbody tr th {\n",
              "        vertical-align: top;\n",
              "    }\n",
              "\n",
              "    .dataframe thead th {\n",
              "        text-align: right;\n",
              "    }\n",
              "</style>\n",
              "<table border=\"1\" class=\"dataframe\">\n",
              "  <thead>\n",
              "    <tr style=\"text-align: right;\">\n",
              "      <th></th>\n",
              "      <th>id</th>\n",
              "      <th>click</th>\n",
              "      <th>hour</th>\n",
              "      <th>C1</th>\n",
              "      <th>banner_pos</th>\n",
              "      <th>site_id</th>\n",
              "      <th>site_domain</th>\n",
              "      <th>site_category</th>\n",
              "      <th>app_id</th>\n",
              "      <th>app_domain</th>\n",
              "      <th>...</th>\n",
              "      <th>device_type</th>\n",
              "      <th>device_conn_type</th>\n",
              "      <th>C14</th>\n",
              "      <th>C15</th>\n",
              "      <th>C16</th>\n",
              "      <th>C17</th>\n",
              "      <th>C18</th>\n",
              "      <th>C19</th>\n",
              "      <th>C20</th>\n",
              "      <th>C21</th>\n",
              "    </tr>\n",
              "  </thead>\n",
              "  <tbody>\n",
              "    <tr>\n",
              "      <th>0</th>\n",
              "      <td>3.190000e+18</td>\n",
              "      <td>0</td>\n",
              "      <td>14102101</td>\n",
              "      <td>1005</td>\n",
              "      <td>0</td>\n",
              "      <td>85f751fd</td>\n",
              "      <td>c4e18dd6</td>\n",
              "      <td>50e219e0</td>\n",
              "      <td>c0c5eb49</td>\n",
              "      <td>f2f777fb</td>\n",
              "      <td>...</td>\n",
              "      <td>1</td>\n",
              "      <td>0</td>\n",
              "      <td>21611</td>\n",
              "      <td>320</td>\n",
              "      <td>50</td>\n",
              "      <td>2480</td>\n",
              "      <td>3</td>\n",
              "      <td>297</td>\n",
              "      <td>100111</td>\n",
              "      <td>61</td>\n",
              "    </tr>\n",
              "    <tr>\n",
              "      <th>1</th>\n",
              "      <td>3.190000e+18</td>\n",
              "      <td>1</td>\n",
              "      <td>14102101</td>\n",
              "      <td>1005</td>\n",
              "      <td>0</td>\n",
              "      <td>5b08c53b</td>\n",
              "      <td>7687a86e</td>\n",
              "      <td>3e814130</td>\n",
              "      <td>ecad2386</td>\n",
              "      <td>7801e8d9</td>\n",
              "      <td>...</td>\n",
              "      <td>1</td>\n",
              "      <td>0</td>\n",
              "      <td>17653</td>\n",
              "      <td>300</td>\n",
              "      <td>250</td>\n",
              "      <td>1994</td>\n",
              "      <td>2</td>\n",
              "      <td>39</td>\n",
              "      <td>-1</td>\n",
              "      <td>33</td>\n",
              "    </tr>\n",
              "    <tr>\n",
              "      <th>2</th>\n",
              "      <td>3.190000e+18</td>\n",
              "      <td>0</td>\n",
              "      <td>14102101</td>\n",
              "      <td>1005</td>\n",
              "      <td>0</td>\n",
              "      <td>5b08c53b</td>\n",
              "      <td>7687a86e</td>\n",
              "      <td>3e814130</td>\n",
              "      <td>ecad2386</td>\n",
              "      <td>7801e8d9</td>\n",
              "      <td>...</td>\n",
              "      <td>1</td>\n",
              "      <td>0</td>\n",
              "      <td>17653</td>\n",
              "      <td>300</td>\n",
              "      <td>250</td>\n",
              "      <td>1994</td>\n",
              "      <td>2</td>\n",
              "      <td>39</td>\n",
              "      <td>-1</td>\n",
              "      <td>33</td>\n",
              "    </tr>\n",
              "    <tr>\n",
              "      <th>3</th>\n",
              "      <td>3.190000e+18</td>\n",
              "      <td>0</td>\n",
              "      <td>14102101</td>\n",
              "      <td>1005</td>\n",
              "      <td>0</td>\n",
              "      <td>85f751fd</td>\n",
              "      <td>c4e18dd6</td>\n",
              "      <td>50e219e0</td>\n",
              "      <td>5e3f096f</td>\n",
              "      <td>2347f47a</td>\n",
              "      <td>...</td>\n",
              "      <td>1</td>\n",
              "      <td>0</td>\n",
              "      <td>21611</td>\n",
              "      <td>320</td>\n",
              "      <td>50</td>\n",
              "      <td>2480</td>\n",
              "      <td>3</td>\n",
              "      <td>297</td>\n",
              "      <td>100111</td>\n",
              "      <td>61</td>\n",
              "    </tr>\n",
              "    <tr>\n",
              "      <th>4</th>\n",
              "      <td>3.190000e+18</td>\n",
              "      <td>0</td>\n",
              "      <td>14102101</td>\n",
              "      <td>1005</td>\n",
              "      <td>0</td>\n",
              "      <td>1fbe01fe</td>\n",
              "      <td>f3845767</td>\n",
              "      <td>28905ebd</td>\n",
              "      <td>ecad2386</td>\n",
              "      <td>7801e8d9</td>\n",
              "      <td>...</td>\n",
              "      <td>1</td>\n",
              "      <td>0</td>\n",
              "      <td>15706</td>\n",
              "      <td>320</td>\n",
              "      <td>50</td>\n",
              "      <td>1722</td>\n",
              "      <td>0</td>\n",
              "      <td>35</td>\n",
              "      <td>100084</td>\n",
              "      <td>79</td>\n",
              "    </tr>\n",
              "  </tbody>\n",
              "</table>\n",
              "<p>5 rows × 24 columns</p>\n",
              "</div>\n",
              "      <button class=\"colab-df-convert\" onclick=\"convertToInteractive('df-0bc2733e-a75a-4c84-8e71-d00d304459e9')\"\n",
              "              title=\"Convert this dataframe to an interactive table.\"\n",
              "              style=\"display:none;\">\n",
              "        \n",
              "  <svg xmlns=\"http://www.w3.org/2000/svg\" height=\"24px\"viewBox=\"0 0 24 24\"\n",
              "       width=\"24px\">\n",
              "    <path d=\"M0 0h24v24H0V0z\" fill=\"none\"/>\n",
              "    <path d=\"M18.56 5.44l.94 2.06.94-2.06 2.06-.94-2.06-.94-.94-2.06-.94 2.06-2.06.94zm-11 1L8.5 8.5l.94-2.06 2.06-.94-2.06-.94L8.5 2.5l-.94 2.06-2.06.94zm10 10l.94 2.06.94-2.06 2.06-.94-2.06-.94-.94-2.06-.94 2.06-2.06.94z\"/><path d=\"M17.41 7.96l-1.37-1.37c-.4-.4-.92-.59-1.43-.59-.52 0-1.04.2-1.43.59L10.3 9.45l-7.72 7.72c-.78.78-.78 2.05 0 2.83L4 21.41c.39.39.9.59 1.41.59.51 0 1.02-.2 1.41-.59l7.78-7.78 2.81-2.81c.8-.78.8-2.07 0-2.86zM5.41 20L4 18.59l7.72-7.72 1.47 1.35L5.41 20z\"/>\n",
              "  </svg>\n",
              "      </button>\n",
              "      \n",
              "  <style>\n",
              "    .colab-df-container {\n",
              "      display:flex;\n",
              "      flex-wrap:wrap;\n",
              "      gap: 12px;\n",
              "    }\n",
              "\n",
              "    .colab-df-convert {\n",
              "      background-color: #E8F0FE;\n",
              "      border: none;\n",
              "      border-radius: 50%;\n",
              "      cursor: pointer;\n",
              "      display: none;\n",
              "      fill: #1967D2;\n",
              "      height: 32px;\n",
              "      padding: 0 0 0 0;\n",
              "      width: 32px;\n",
              "    }\n",
              "\n",
              "    .colab-df-convert:hover {\n",
              "      background-color: #E2EBFA;\n",
              "      box-shadow: 0px 1px 2px rgba(60, 64, 67, 0.3), 0px 1px 3px 1px rgba(60, 64, 67, 0.15);\n",
              "      fill: #174EA6;\n",
              "    }\n",
              "\n",
              "    [theme=dark] .colab-df-convert {\n",
              "      background-color: #3B4455;\n",
              "      fill: #D2E3FC;\n",
              "    }\n",
              "\n",
              "    [theme=dark] .colab-df-convert:hover {\n",
              "      background-color: #434B5C;\n",
              "      box-shadow: 0px 1px 3px 1px rgba(0, 0, 0, 0.15);\n",
              "      filter: drop-shadow(0px 1px 2px rgba(0, 0, 0, 0.3));\n",
              "      fill: #FFFFFF;\n",
              "    }\n",
              "  </style>\n",
              "\n",
              "      <script>\n",
              "        const buttonEl =\n",
              "          document.querySelector('#df-0bc2733e-a75a-4c84-8e71-d00d304459e9 button.colab-df-convert');\n",
              "        buttonEl.style.display =\n",
              "          google.colab.kernel.accessAllowed ? 'block' : 'none';\n",
              "\n",
              "        async function convertToInteractive(key) {\n",
              "          const element = document.querySelector('#df-0bc2733e-a75a-4c84-8e71-d00d304459e9');\n",
              "          const dataTable =\n",
              "            await google.colab.kernel.invokeFunction('convertToInteractive',\n",
              "                                                     [key], {});\n",
              "          if (!dataTable) return;\n",
              "\n",
              "          const docLinkHtml = 'Like what you see? Visit the ' +\n",
              "            '<a target=\"_blank\" href=https://colab.research.google.com/notebooks/data_table.ipynb>data table notebook</a>'\n",
              "            + ' to learn more about interactive tables.';\n",
              "          element.innerHTML = '';\n",
              "          dataTable['output_type'] = 'display_data';\n",
              "          await google.colab.output.renderOutput(dataTable, element);\n",
              "          const docLink = document.createElement('div');\n",
              "          docLink.innerHTML = docLinkHtml;\n",
              "          element.appendChild(docLink);\n",
              "        }\n",
              "      </script>\n",
              "    </div>\n",
              "  </div>\n",
              "  "
            ]
          },
          "metadata": {},
          "execution_count": 16
        }
      ]
    },
    {
      "cell_type": "code",
      "source": [
        "df.set_index('id',inplace=True)"
      ],
      "metadata": {
        "id": "fsx2o9dS4QH-"
      },
      "execution_count": 17,
      "outputs": []
    },
    {
      "cell_type": "code",
      "source": [
        "y = df['click']"
      ],
      "metadata": {
        "id": "Mop9YPn_4VOm"
      },
      "execution_count": 18,
      "outputs": []
    },
    {
      "cell_type": "code",
      "source": [
        "x = df.loc[:,df.columns!='click']"
      ],
      "metadata": {
        "id": "CzBi5-3I4ZdG"
      },
      "execution_count": 19,
      "outputs": []
    },
    {
      "cell_type": "code",
      "source": [
        "x.info()"
      ],
      "metadata": {
        "colab": {
          "base_uri": "https://localhost:8080/"
        },
        "id": "7RaNRQbW4nlG",
        "outputId": "36746246-a1e3-4074-ae17-4474808b74fb"
      },
      "execution_count": 20,
      "outputs": [
        {
          "output_type": "stream",
          "name": "stdout",
          "text": [
            "<class 'pandas.core.frame.DataFrame'>\n",
            "Float64Index: 100001 entries, 3.19e+18 to 1.35e+19\n",
            "Data columns (total 22 columns):\n",
            " #   Column            Non-Null Count   Dtype \n",
            "---  ------            --------------   ----- \n",
            " 0   hour              100001 non-null  int64 \n",
            " 1   C1                100001 non-null  int64 \n",
            " 2   banner_pos        100001 non-null  int64 \n",
            " 3   site_id           100001 non-null  object\n",
            " 4   site_domain       100001 non-null  object\n",
            " 5   site_category     100001 non-null  object\n",
            " 6   app_id            100001 non-null  object\n",
            " 7   app_domain        100001 non-null  object\n",
            " 8   app_category      100001 non-null  object\n",
            " 9   device_id         100001 non-null  object\n",
            " 10  device_ip         100001 non-null  object\n",
            " 11  device_model      100001 non-null  object\n",
            " 12  device_type       100001 non-null  int64 \n",
            " 13  device_conn_type  100001 non-null  int64 \n",
            " 14  C14               100001 non-null  int64 \n",
            " 15  C15               100001 non-null  int64 \n",
            " 16  C16               100001 non-null  int64 \n",
            " 17  C17               100001 non-null  int64 \n",
            " 18  C18               100001 non-null  int64 \n",
            " 19  C19               100001 non-null  int64 \n",
            " 20  C20               100001 non-null  int64 \n",
            " 21  C21               100001 non-null  int64 \n",
            "dtypes: int64(13), object(9)\n",
            "memory usage: 17.5+ MB\n"
          ]
        }
      ]
    },
    {
      "cell_type": "markdown",
      "source": [
        "**Transformation**"
      ],
      "metadata": {
        "id": "vTGaOfHR6Prn"
      }
    },
    {
      "cell_type": "code",
      "source": [
        "from sklearn.preprocessing import LabelEncoder\n",
        "numerics = ['int16', 'int32', 'int64', 'float16', 'float32', 'float64']\n",
        "numeric_columns = x.select_dtypes(include=numerics)\n",
        "non_numeric_columns = list(set(x.columns) - set(numeric_columns)) + list(\n",
        "    set(numeric_columns) - set(x.columns))\n",
        "le = LabelEncoder()\n",
        "x[non_numeric_columns] = x[non_numeric_columns].apply(le.fit_transform)"
      ],
      "metadata": {
        "colab": {
          "base_uri": "https://localhost:8080/"
        },
        "id": "LepwEalG4ye2",
        "outputId": "289d55c6-2ab6-422a-f4c0-893ecd38e679"
      },
      "execution_count": 24,
      "outputs": [
        {
          "output_type": "stream",
          "name": "stderr",
          "text": [
            "/usr/local/lib/python3.8/dist-packages/pandas/core/frame.py:3641: SettingWithCopyWarning: \n",
            "A value is trying to be set on a copy of a slice from a DataFrame.\n",
            "Try using .loc[row_indexer,col_indexer] = value instead\n",
            "\n",
            "See the caveats in the documentation: https://pandas.pydata.org/pandas-docs/stable/user_guide/indexing.html#returning-a-view-versus-a-copy\n",
            "  self[k1] = value[k2]\n"
          ]
        }
      ]
    },
    {
      "cell_type": "code",
      "source": [
        "x.head()"
      ],
      "metadata": {
        "colab": {
          "base_uri": "https://localhost:8080/",
          "height": 232
        },
        "id": "1dOhS81d6moC",
        "outputId": "cee20782-63ad-40d5-fa7a-f95e1ed6300c"
      },
      "execution_count": 25,
      "outputs": [
        {
          "output_type": "execute_result",
          "data": {
            "text/plain": [
              "                  hour    C1  banner_pos  site_id  site_domain  site_category  \\\n",
              "id                                                                              \n",
              "3.190000e+18  14102101  1005           0      572          699              4   \n",
              "3.190000e+18  14102101  1005           0      398          409              3   \n",
              "3.190000e+18  14102101  1005           0      398          409              3   \n",
              "3.190000e+18  14102101  1005           0      572          699              4   \n",
              "3.190000e+18  14102101  1005           0      126          856              1   \n",
              "\n",
              "              app_id  app_domain  app_category  device_id  ...  device_type  \\\n",
              "id                                                         ...                \n",
              "3.190000e+18     682          66             2       7607  ...            1   \n",
              "3.190000e+18     853          30             0       7607  ...            1   \n",
              "3.190000e+18     853          30             0       7607  ...            1   \n",
              "3.190000e+18     374           8             2       7607  ...            1   \n",
              "3.190000e+18     853          30             0       7607  ...            1   \n",
              "\n",
              "              device_conn_type    C14  C15  C16   C17  C18  C19     C20  C21  \n",
              "id                                                                            \n",
              "3.190000e+18                 0  21611  320   50  2480    3  297  100111   61  \n",
              "3.190000e+18                 0  17653  300  250  1994    2   39      -1   33  \n",
              "3.190000e+18                 0  17653  300  250  1994    2   39      -1   33  \n",
              "3.190000e+18                 0  21611  320   50  2480    3  297  100111   61  \n",
              "3.190000e+18                 0  15706  320   50  1722    0   35  100084   79  \n",
              "\n",
              "[5 rows x 22 columns]"
            ],
            "text/html": [
              "\n",
              "  <div id=\"df-cb9d6707-6708-46d1-8150-51d57c86e4ca\">\n",
              "    <div class=\"colab-df-container\">\n",
              "      <div>\n",
              "<style scoped>\n",
              "    .dataframe tbody tr th:only-of-type {\n",
              "        vertical-align: middle;\n",
              "    }\n",
              "\n",
              "    .dataframe tbody tr th {\n",
              "        vertical-align: top;\n",
              "    }\n",
              "\n",
              "    .dataframe thead th {\n",
              "        text-align: right;\n",
              "    }\n",
              "</style>\n",
              "<table border=\"1\" class=\"dataframe\">\n",
              "  <thead>\n",
              "    <tr style=\"text-align: right;\">\n",
              "      <th></th>\n",
              "      <th>hour</th>\n",
              "      <th>C1</th>\n",
              "      <th>banner_pos</th>\n",
              "      <th>site_id</th>\n",
              "      <th>site_domain</th>\n",
              "      <th>site_category</th>\n",
              "      <th>app_id</th>\n",
              "      <th>app_domain</th>\n",
              "      <th>app_category</th>\n",
              "      <th>device_id</th>\n",
              "      <th>...</th>\n",
              "      <th>device_type</th>\n",
              "      <th>device_conn_type</th>\n",
              "      <th>C14</th>\n",
              "      <th>C15</th>\n",
              "      <th>C16</th>\n",
              "      <th>C17</th>\n",
              "      <th>C18</th>\n",
              "      <th>C19</th>\n",
              "      <th>C20</th>\n",
              "      <th>C21</th>\n",
              "    </tr>\n",
              "    <tr>\n",
              "      <th>id</th>\n",
              "      <th></th>\n",
              "      <th></th>\n",
              "      <th></th>\n",
              "      <th></th>\n",
              "      <th></th>\n",
              "      <th></th>\n",
              "      <th></th>\n",
              "      <th></th>\n",
              "      <th></th>\n",
              "      <th></th>\n",
              "      <th></th>\n",
              "      <th></th>\n",
              "      <th></th>\n",
              "      <th></th>\n",
              "      <th></th>\n",
              "      <th></th>\n",
              "      <th></th>\n",
              "      <th></th>\n",
              "      <th></th>\n",
              "      <th></th>\n",
              "      <th></th>\n",
              "    </tr>\n",
              "  </thead>\n",
              "  <tbody>\n",
              "    <tr>\n",
              "      <th>3.190000e+18</th>\n",
              "      <td>14102101</td>\n",
              "      <td>1005</td>\n",
              "      <td>0</td>\n",
              "      <td>572</td>\n",
              "      <td>699</td>\n",
              "      <td>4</td>\n",
              "      <td>682</td>\n",
              "      <td>66</td>\n",
              "      <td>2</td>\n",
              "      <td>7607</td>\n",
              "      <td>...</td>\n",
              "      <td>1</td>\n",
              "      <td>0</td>\n",
              "      <td>21611</td>\n",
              "      <td>320</td>\n",
              "      <td>50</td>\n",
              "      <td>2480</td>\n",
              "      <td>3</td>\n",
              "      <td>297</td>\n",
              "      <td>100111</td>\n",
              "      <td>61</td>\n",
              "    </tr>\n",
              "    <tr>\n",
              "      <th>3.190000e+18</th>\n",
              "      <td>14102101</td>\n",
              "      <td>1005</td>\n",
              "      <td>0</td>\n",
              "      <td>398</td>\n",
              "      <td>409</td>\n",
              "      <td>3</td>\n",
              "      <td>853</td>\n",
              "      <td>30</td>\n",
              "      <td>0</td>\n",
              "      <td>7607</td>\n",
              "      <td>...</td>\n",
              "      <td>1</td>\n",
              "      <td>0</td>\n",
              "      <td>17653</td>\n",
              "      <td>300</td>\n",
              "      <td>250</td>\n",
              "      <td>1994</td>\n",
              "      <td>2</td>\n",
              "      <td>39</td>\n",
              "      <td>-1</td>\n",
              "      <td>33</td>\n",
              "    </tr>\n",
              "    <tr>\n",
              "      <th>3.190000e+18</th>\n",
              "      <td>14102101</td>\n",
              "      <td>1005</td>\n",
              "      <td>0</td>\n",
              "      <td>398</td>\n",
              "      <td>409</td>\n",
              "      <td>3</td>\n",
              "      <td>853</td>\n",
              "      <td>30</td>\n",
              "      <td>0</td>\n",
              "      <td>7607</td>\n",
              "      <td>...</td>\n",
              "      <td>1</td>\n",
              "      <td>0</td>\n",
              "      <td>17653</td>\n",
              "      <td>300</td>\n",
              "      <td>250</td>\n",
              "      <td>1994</td>\n",
              "      <td>2</td>\n",
              "      <td>39</td>\n",
              "      <td>-1</td>\n",
              "      <td>33</td>\n",
              "    </tr>\n",
              "    <tr>\n",
              "      <th>3.190000e+18</th>\n",
              "      <td>14102101</td>\n",
              "      <td>1005</td>\n",
              "      <td>0</td>\n",
              "      <td>572</td>\n",
              "      <td>699</td>\n",
              "      <td>4</td>\n",
              "      <td>374</td>\n",
              "      <td>8</td>\n",
              "      <td>2</td>\n",
              "      <td>7607</td>\n",
              "      <td>...</td>\n",
              "      <td>1</td>\n",
              "      <td>0</td>\n",
              "      <td>21611</td>\n",
              "      <td>320</td>\n",
              "      <td>50</td>\n",
              "      <td>2480</td>\n",
              "      <td>3</td>\n",
              "      <td>297</td>\n",
              "      <td>100111</td>\n",
              "      <td>61</td>\n",
              "    </tr>\n",
              "    <tr>\n",
              "      <th>3.190000e+18</th>\n",
              "      <td>14102101</td>\n",
              "      <td>1005</td>\n",
              "      <td>0</td>\n",
              "      <td>126</td>\n",
              "      <td>856</td>\n",
              "      <td>1</td>\n",
              "      <td>853</td>\n",
              "      <td>30</td>\n",
              "      <td>0</td>\n",
              "      <td>7607</td>\n",
              "      <td>...</td>\n",
              "      <td>1</td>\n",
              "      <td>0</td>\n",
              "      <td>15706</td>\n",
              "      <td>320</td>\n",
              "      <td>50</td>\n",
              "      <td>1722</td>\n",
              "      <td>0</td>\n",
              "      <td>35</td>\n",
              "      <td>100084</td>\n",
              "      <td>79</td>\n",
              "    </tr>\n",
              "  </tbody>\n",
              "</table>\n",
              "<p>5 rows × 22 columns</p>\n",
              "</div>\n",
              "      <button class=\"colab-df-convert\" onclick=\"convertToInteractive('df-cb9d6707-6708-46d1-8150-51d57c86e4ca')\"\n",
              "              title=\"Convert this dataframe to an interactive table.\"\n",
              "              style=\"display:none;\">\n",
              "        \n",
              "  <svg xmlns=\"http://www.w3.org/2000/svg\" height=\"24px\"viewBox=\"0 0 24 24\"\n",
              "       width=\"24px\">\n",
              "    <path d=\"M0 0h24v24H0V0z\" fill=\"none\"/>\n",
              "    <path d=\"M18.56 5.44l.94 2.06.94-2.06 2.06-.94-2.06-.94-.94-2.06-.94 2.06-2.06.94zm-11 1L8.5 8.5l.94-2.06 2.06-.94-2.06-.94L8.5 2.5l-.94 2.06-2.06.94zm10 10l.94 2.06.94-2.06 2.06-.94-2.06-.94-.94-2.06-.94 2.06-2.06.94z\"/><path d=\"M17.41 7.96l-1.37-1.37c-.4-.4-.92-.59-1.43-.59-.52 0-1.04.2-1.43.59L10.3 9.45l-7.72 7.72c-.78.78-.78 2.05 0 2.83L4 21.41c.39.39.9.59 1.41.59.51 0 1.02-.2 1.41-.59l7.78-7.78 2.81-2.81c.8-.78.8-2.07 0-2.86zM5.41 20L4 18.59l7.72-7.72 1.47 1.35L5.41 20z\"/>\n",
              "  </svg>\n",
              "      </button>\n",
              "      \n",
              "  <style>\n",
              "    .colab-df-container {\n",
              "      display:flex;\n",
              "      flex-wrap:wrap;\n",
              "      gap: 12px;\n",
              "    }\n",
              "\n",
              "    .colab-df-convert {\n",
              "      background-color: #E8F0FE;\n",
              "      border: none;\n",
              "      border-radius: 50%;\n",
              "      cursor: pointer;\n",
              "      display: none;\n",
              "      fill: #1967D2;\n",
              "      height: 32px;\n",
              "      padding: 0 0 0 0;\n",
              "      width: 32px;\n",
              "    }\n",
              "\n",
              "    .colab-df-convert:hover {\n",
              "      background-color: #E2EBFA;\n",
              "      box-shadow: 0px 1px 2px rgba(60, 64, 67, 0.3), 0px 1px 3px 1px rgba(60, 64, 67, 0.15);\n",
              "      fill: #174EA6;\n",
              "    }\n",
              "\n",
              "    [theme=dark] .colab-df-convert {\n",
              "      background-color: #3B4455;\n",
              "      fill: #D2E3FC;\n",
              "    }\n",
              "\n",
              "    [theme=dark] .colab-df-convert:hover {\n",
              "      background-color: #434B5C;\n",
              "      box-shadow: 0px 1px 3px 1px rgba(0, 0, 0, 0.15);\n",
              "      filter: drop-shadow(0px 1px 2px rgba(0, 0, 0, 0.3));\n",
              "      fill: #FFFFFF;\n",
              "    }\n",
              "  </style>\n",
              "\n",
              "      <script>\n",
              "        const buttonEl =\n",
              "          document.querySelector('#df-cb9d6707-6708-46d1-8150-51d57c86e4ca button.colab-df-convert');\n",
              "        buttonEl.style.display =\n",
              "          google.colab.kernel.accessAllowed ? 'block' : 'none';\n",
              "\n",
              "        async function convertToInteractive(key) {\n",
              "          const element = document.querySelector('#df-cb9d6707-6708-46d1-8150-51d57c86e4ca');\n",
              "          const dataTable =\n",
              "            await google.colab.kernel.invokeFunction('convertToInteractive',\n",
              "                                                     [key], {});\n",
              "          if (!dataTable) return;\n",
              "\n",
              "          const docLinkHtml = 'Like what you see? Visit the ' +\n",
              "            '<a target=\"_blank\" href=https://colab.research.google.com/notebooks/data_table.ipynb>data table notebook</a>'\n",
              "            + ' to learn more about interactive tables.';\n",
              "          element.innerHTML = '';\n",
              "          dataTable['output_type'] = 'display_data';\n",
              "          await google.colab.output.renderOutput(dataTable, element);\n",
              "          const docLink = document.createElement('div');\n",
              "          docLink.innerHTML = docLinkHtml;\n",
              "          element.appendChild(docLink);\n",
              "        }\n",
              "      </script>\n",
              "    </div>\n",
              "  </div>\n",
              "  "
            ]
          },
          "metadata": {},
          "execution_count": 25
        },
        {
          "output_type": "stream",
          "name": "stdout",
          "text": [
            "Warning: Total number of columns (22) exceeds max_columns (20) limiting to first (20) columns.\n"
          ]
        }
      ]
    },
    {
      "cell_type": "markdown",
      "source": [
        "**Model Training**"
      ],
      "metadata": {
        "id": "24GB7E6y88tv"
      }
    },
    {
      "cell_type": "code",
      "source": [
        "from sklearn.model_selection import train_test_split\n",
        "X_train, X_test, y_train, y_test = train_test_split(x, y, test_size=0.33)"
      ],
      "metadata": {
        "id": "4e0TMVG17FlG"
      },
      "execution_count": 26,
      "outputs": []
    },
    {
      "cell_type": "code",
      "source": [
        "from xgboost import XGBClassifier\n",
        "xgb = XGBClassifier()"
      ],
      "metadata": {
        "id": "b0_wMtpm7sSP"
      },
      "execution_count": 28,
      "outputs": []
    },
    {
      "cell_type": "code",
      "source": [
        "xgb.fit(X_train,y_train)"
      ],
      "metadata": {
        "colab": {
          "base_uri": "https://localhost:8080/"
        },
        "id": "lYg1VGV88Mgm",
        "outputId": "ece4ec69-c194-4168-903b-1eca17d0dc54"
      },
      "execution_count": 29,
      "outputs": [
        {
          "output_type": "execute_result",
          "data": {
            "text/plain": [
              "XGBClassifier()"
            ]
          },
          "metadata": {},
          "execution_count": 29
        }
      ]
    },
    {
      "cell_type": "code",
      "source": [
        "y_predict = xgb.predict(X_test)"
      ],
      "metadata": {
        "id": "iRGIwUB88Qu-"
      },
      "execution_count": 31,
      "outputs": []
    },
    {
      "cell_type": "markdown",
      "source": [
        "**Evaluation**"
      ],
      "metadata": {
        "id": "sEMm3cYZ9ATA"
      }
    },
    {
      "cell_type": "code",
      "source": [
        "from sklearn.metrics import accuracy_score, precision_score\n",
        "print(accuracy_score(y_pred=y_predict,y_true=y_test))\n",
        "print(precision_score(y_pred=y_predict,y_true=y_test))"
      ],
      "metadata": {
        "colab": {
          "base_uri": "https://localhost:8080/"
        },
        "id": "irEzJZk-8YTm",
        "outputId": "16f53e9d-d17f-4d18-860a-b3bfe507ef87"
      },
      "execution_count": 35,
      "outputs": [
        {
          "output_type": "stream",
          "name": "stdout",
          "text": [
            "0.8416714645010758\n",
            "0.10438335809806835\n"
          ]
        }
      ]
    },
    {
      "cell_type": "markdown",
      "source": [
        "**Apply model on test data**"
      ],
      "metadata": {
        "id": "H9IJ70wq9DIf"
      }
    },
    {
      "cell_type": "code",
      "source": [],
      "metadata": {
        "id": "rhy3ABIP8rCw"
      },
      "execution_count": null,
      "outputs": []
    }
  ]
}